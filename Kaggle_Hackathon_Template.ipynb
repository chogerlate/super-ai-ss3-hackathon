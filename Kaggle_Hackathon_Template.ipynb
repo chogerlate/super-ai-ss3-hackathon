{
  "nbformat": 4,
  "nbformat_minor": 0,
  "metadata": {
    "colab": {
      "provenance": [],
      "mount_file_id": "1SRhiFTQJPehHkWd78Dc4mLERH1Ppn4IU",
      "authorship_tag": "ABX9TyOGAgCxrqh2Wm+AC6+/9UjC",
      "include_colab_link": true
    },
    "kernelspec": {
      "name": "python3",
      "display_name": "Python 3"
    },
    "language_info": {
      "name": "python"
    }
  },
  "cells": [
    {
      "cell_type": "markdown",
      "metadata": {
        "id": "view-in-github",
        "colab_type": "text"
      },
      "source": [
        "<a href=\"https://colab.research.google.com/github/chogerlate/Hackathon/blob/main/Kaggle_Hackathon_Template.ipynb\" target=\"_parent\"><img src=\"https://colab.research.google.com/assets/colab-badge.svg\" alt=\"Open In Colab\"/></a>"
      ]
    },
    {
      "cell_type": "markdown",
      "source": [
        "### Setup Gdrive connect"
      ],
      "metadata": {
        "id": "DCZFXQYx3XDE"
      }
    },
    {
      "cell_type": "code",
      "execution_count": null,
      "metadata": {
        "id": "IQn6rlNX28Fo"
      },
      "outputs": [],
      "source": [
        "from google.colab import drive\n",
        "drive.mount('/content/drive')"
      ]
    },
    {
      "cell_type": "markdown",
      "source": [
        "### Restart runtime "
      ],
      "metadata": {
        "id": "Y102kNTD57qH"
      }
    },
    {
      "cell_type": "code",
      "source": [
        "# restart runtime\n",
        "import os\n",
        "os.kill(os.getpid(), 9)"
      ],
      "metadata": {
        "id": "ApDoxrRi6Cfs"
      },
      "execution_count": null,
      "outputs": []
    },
    {
      "cell_type": "markdown",
      "source": [
        "### Kaggle Connect"
      ],
      "metadata": {
        "id": "9M5dNy4B3yG9"
      }
    },
    {
      "cell_type": "markdown",
      "source": [
        "install"
      ],
      "metadata": {
        "id": "LNyCpKyL4EQz"
      }
    },
    {
      "cell_type": "code",
      "source": [
        "!pip install -q kaggle"
      ],
      "metadata": {
        "id": "jS50DcXR3xzh"
      },
      "execution_count": null,
      "outputs": []
    },
    {
      "cell_type": "markdown",
      "source": [
        "Copy token and access kaggle"
      ],
      "metadata": {
        "id": "-DIUrS1D4KIZ"
      }
    },
    {
      "cell_type": "code",
      "source": [
        "# connect colab to kaggle through a saved token that store in my Gdrive\n",
        "# !rm -r ~/.kaggle\n",
        "!mkdir ~/.kaggle\n",
        "!cp /content/drive/MyDrive/colab/kaggle.json ~/.kaggle/\n",
        "!chmod 600 ~/.kaggle/kaggle.json\n",
        "!kaggle datasets list"
      ],
      "metadata": {
        "id": "2DUm9kqC35Pu"
      },
      "execution_count": null,
      "outputs": []
    },
    {
      "cell_type": "markdown",
      "source": [
        "Download Dataset from kaggle"
      ],
      "metadata": {
        "id": "4GmWC4S64SoM"
      }
    },
    {
      "cell_type": "code",
      "source": [
        "!kaggle competitions download -c dataset_name"
      ],
      "metadata": {
        "id": "L-D0b7QO4BtO"
      },
      "execution_count": null,
      "outputs": []
    },
    {
      "cell_type": "markdown",
      "source": [
        "Organizing our directory "
      ],
      "metadata": {
        "id": "__4eEDF04Ywb"
      }
    },
    {
      "cell_type": "code",
      "source": [
        "!mkdir kaggleData\n",
        "!unzip /content/dataset_name.zip -d /content/kaggleData"
      ],
      "metadata": {
        "id": "q1nTH8dI4YRI"
      },
      "execution_count": null,
      "outputs": []
    },
    {
      "cell_type": "markdown",
      "source": [
        "### submit"
      ],
      "metadata": {
        "id": "L3bZvOWg6MtZ"
      }
    },
    {
      "cell_type": "code",
      "source": [
        "!kaggle competitions submit competition-name -f submission.csv -m \"submission message\""
      ],
      "metadata": {
        "id": "OdSIO_U-6JBF"
      },
      "execution_count": null,
      "outputs": []
    }
  ]
}